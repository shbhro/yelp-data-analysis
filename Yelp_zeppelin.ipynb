﻿{
  "metadata": {
    "name": "Yelp",
    "kernelspec": {
      "language": "scala",
      "name": "spark2-scala"
    },
    "language_info": {
      "codemirror_mode": "text/x-scala",
      "file_extension": ".scala",
      "mimetype": "text/x-scala",
      "name": "scala",
      "pygments_lexer": "scala"
    }
  },
  "nbformat": 4,
  "nbformat_minor": 2,
  "cells": [
    {
      "cell_type": "code",
      "execution_count": 0,
      "metadata": {
        "autoscroll": "auto"
      },
      "outputs": [],
      "source": "%pyspark\nfrom pyspark.sql.functions import *\nfrom pyspark import HiveContext\n\nhc \u003d HiveContext(sc)\ndf1 \u003d hc.table(\u0027users\u0027)\ndf2 \u003d hc.table(\u0027restaurant\u0027)\ndf3 \u003d hc.table(\u0027review\u0027)"
    },
    {
      "cell_type": "code",
      "execution_count": 1,
      "metadata": {
        "autoscroll": "auto"
      },
      "outputs": [],
      "source": "%pyspark\nkeywords \u003d [\n    \u0027American\u0027, \u0027Mexican\u0027, \u0027Italian\u0027, \u0027Japanese\u0027, \u0027Chinese\u0027, \u0027Thai\u0027, \u0027Mediterranean\u0027,\n    \u0027French\u0027, \u0027Vietnamese\u0027, \u0027Greek\u0027, \u0027Indian\u0027, \u0027Korean\u0027, \u0027Hawaiian\u0027, \u0027African\u0027, \u0027Spanish\u0027\n]\n\nif \u0027category\u0027 not in df2.columns:\n    df4 \u003d df2.withColumn(\u0027category\u0027, lit(None))\n    \nfor keyword in keywords:\n    df4 \u003d df4.withColumn(\u0027category\u0027, when(col(\u0027categories\u0027).contains(keyword), keyword).otherwise(col(\u0027category\u0027)))\n"
    },
    {
      "cell_type": "code",
      "execution_count": 2,
      "metadata": {
        "autoscroll": "auto"
      },
      "outputs": [],
      "source": "%pyspark\r\n\r\noption1 \u003d [(\u0027Average Stars\u0027, \u0027Average Stars\u0027), (\u0027Number Of Fans\u0027, \u0027Number Of Fans\u0027)]\r\nselected_options \u003d z.select(\"Top Popular User\", option1)\r\n\r\nif \"Average Stars\" in selected_options:\r\n    top_user1 \u003d df1.select(\u0027user_id\u0027, \u0027user_name\u0027, \u0027user_average_stars\u0027) \\\r\n        .orderBy(col(\u0027user_average_stars\u0027).desc()) \\\r\n        .limit(100)\r\n    z.show(top_user1)\r\nelif \"Number Of Fans\" in selected_options:\r\n    top_user2 \u003d df1.select(\u0027user_id\u0027, \u0027user_name\u0027, \u0027user_fans\u0027) \\\r\n        .orderBy(col(\u0027user_fans\u0027).desc()) \\\r\n        .limit(100)\r\n    z.show(top_user2)\r\nelse:\r\n    print(\"Please select at least one option.\")\r\n    \r\ntop_user1.write.format(\"jdbc\").mode(\"overwrite\") \\\r\n  .option(\"url\", \"jdbc:mysql://node-master:3306/yelp\") \\\r\n  .option(\"dbtable\", \"top_user_star\") \\\r\n  .option(\"user\", \"root\") \\\r\n  .option(\"password\", \"admin\") \\\r\n  .save()\r\n  \r\ntop_user2.write.format(\"jdbc\").mode(\"overwrite\") \\\r\n  .option(\"url\", \"jdbc:mysql://node-master:3306/yelp\") \\\r\n  .option(\"dbtable\", \"top_user_fans\") \\\r\n  .option(\"user\", \"root\") \\\r\n  .option(\"password\", \"admin\") \\\r\n  .save()"
    },
    {
      "cell_type": "code",
      "execution_count": 3,
      "metadata": {
        "autoscroll": "auto"
      },
      "outputs": [],
      "source": "%pyspark\n\nprint(\u0027Number of restaurant in each state\u0027)\nstate \u003d df4.select(\u0027state\u0027)\\\n    .groupBy(col(\u0027state\u0027).alias(\u0027state\u0027)) \\\n    .agg(count(\u0027state\u0027).alias(\u0027State counts\u0027)) \\\n    .orderBy(col(\u0027State counts\u0027).desc()) \\\n\nz.show(state)\n\nstate.write.format(\"jdbc\").mode(\"overwrite\") \\\n  .option(\"url\", \"jdbc:mysql://node-master:3306/yelp\") \\\n  .option(\"dbtable\", \"num_res_state\") \\\n  .option(\"user\", \"root\") \\\n  .option(\"password\", \"admin\") \\\n  .save()\n"
    },
    {
      "cell_type": "code",
      "execution_count": 4,
      "metadata": {
        "autoscroll": "auto"
      },
      "outputs": [],
      "source": "%pyspark\n\nprint(\u0027Number of restaurant in each city\u0027)\ncity \u003d df4.select(\u0027city\u0027)\\\n    .groupBy(col(\u0027city\u0027).alias(\u0027city\u0027)) \\\n    .agg(count(\u0027city\u0027).alias(\u0027City counts\u0027)) \\\n    .orderBy(col(\u0027City counts\u0027).desc()) \\\n\nz.show(city)\n\ncity.write.format(\"jdbc\").mode(\"overwrite\") \\\n  .option(\"url\", \"jdbc:mysql://node-master:3306/yelp\") \\\n  .option(\"dbtable\", \"num_res_city\") \\\n  .option(\"user\", \"root\") \\\n  .option(\"password\", \"admin\") \\\n  .save()"
    },
    {
      "cell_type": "code",
      "execution_count": 5,
      "metadata": {
        "autoscroll": "auto"
      },
      "outputs": [],
      "source": "%pyspark\n\nprint(\u0027Distributions of Franchizes\u0027)\nresult \u003d df4.groupBy(col(\u0027name\u0027).alias(\u0027Business Name\u0027)) \\\n    .agg(count(\u0027name\u0027).alias(\u0027counts\u0027)) \\\n    .orderBy(col(\u0027counts\u0027).desc()) \\\n\nz.show(result)\n\nresult.write.format(\"jdbc\").mode(\"overwrite\") \\\n  .option(\"url\", \"jdbc:mysql://node-master:3306/yelp\") \\\n  .option(\"dbtable\", \"franchizes\") \\\n  .option(\"user\", \"root\") \\\n  .option(\"password\", \"admin\") \\\n  .save()"
    },
    {
      "cell_type": "code",
      "execution_count": 6,
      "metadata": {
        "autoscroll": "auto"
      },
      "outputs": [],
      "source": "%pyspark\n\noption1 \u003d [(\u0027NJ\u0027,\u0027NJ\u0027),(\u0027AZ\u0027,\u0027AZ\u0027),(\u0027AB\u0027,\u0027AB\u0027),(\u0027NV\u0027,\u0027NV\u0027),(\u0027PA\u0027,\u0027PA\u0027),(\u0027CA\u0027,\u0027CA\u0027),(\u0027ID\u0027,\u0027ID\u0027),(\u0027DE\u0027,\u0027DE\u0027),(\u0027IL\u0027,\u0027IL\u0027),(\u0027FL\u0027,\u0027FL\u0027),(\u0027MO\u0027,\u0027MO\u0027),(\u0027TN\u0027,\u0027TN\u0027),(\u0027IN\u0027,\u0027IN\u0027),(\u0027LA\u0027,\u0027LA\u0027),(\u0027MT\u0027,\u0027MT\u0027)]\nprint(\"Top-rating Restaurant in \"+ \" and \".join(z.select(\"State\", option1)))\n\nselected_states \u003d [state for state, _ in option1 if state in z.select(\"State\", option1)]\nif not selected_states:\n    selected_states \u003d [state for state, _ in option1]\nfiltered_df \u003d df4.filter(df4.state.isin(selected_states))\n\ntop_res \u003d filtered_df.select(\u0027name\u0027,\u0027stars\u0027,\u0027review_count\u0027,\u0027city\u0027,\u0027state\u0027,\u0027hours\u0027,\u0027categories\u0027,\u0027attributes\u0027) \\\n    .orderBy(col(\u0027stars\u0027).desc()) \\\n    .limit(1000)\n    \nz.show(top_res)\n\ntop_res.write.format(\"jdbc\").mode(\"overwrite\") \\\n  .option(\"url\", \"jdbc:mysql://node-master:3306/yelp\") \\\n  .option(\"dbtable\", \"top_res_MT\") \\\n  .option(\"user\", \"root\") \\\n  .option(\"password\", \"admin\") \\\n  .save()"
    },
    {
      "cell_type": "code",
      "execution_count": 7,
      "metadata": {
        "autoscroll": "auto"
      },
      "outputs": [],
      "source": "%pyspark\n\noption2 \u003d [(\u0027Chinese\u0027,\u0027Chinese\u0027),(\u0027Korean\u0027,\u0027Korean\u0027),(\u0027Japanese\u0027,\u0027Japanese\u0027),(\u0027American\u0027,\u0027American\u0027),(\u0027Mexican\u0027,\u0027Mexican\u0027),(\u0027Italian\u0027,\u0027Italian\u0027),(\u0027Indian\u0027,\u0027Indian\u0027),(\u0027Vietnamese\u0027,\u0027Vietnamese\u0027),(\u0027Spanish\u0027,\u0027Spanish\u0027),(\u0027Thai\u0027,\u0027Thai\u0027),(\u0027Greek\u0027,\u0027Greek\u0027),(\u0027Mediterranean\u0027,\u0027Mediterranean\u0027),(\u0027French\u0027,\u0027French\u0027),(\u0027Hawaiian\u0027,\u0027Hawaiian\u0027),(\u0027African\u0027,\u0027African\u0027)]\nprint(\"Top-rating Restaurant of\",(z.select(\"Cuisine\", option2)), \"cuisine\")\n\nselected_cuisines \u003d [cuisine for cuisine, _ in option2 if cuisine in z.select(\"Cuisine\", option2)]\nif not selected_cuisines:\n    selected_cuisines \u003d [cuisine for cuisine, _ in option2]\n\nfiltered_df \u003d df4.filter(df4.category.isin(selected_cuisines))\n\ntop_cuisine \u003d filtered_df.select(\u0027name\u0027, \u0027stars\u0027)\\\n    .orderBy(col(\u0027stars\u0027).desc()) \n\nz.show(top_cuisine)\n\ntop_cuisine.write.format(\"jdbc\").mode(\"overwrite\") \\\n  .option(\"url\", \"jdbc:mysql://node-master:3306/yelp\") \\\n  .option(\"dbtable\", \"top_cuisine_african\") \\\n  .option(\"user\", \"root\") \\\n  .option(\"password\", \"admin\") \\\n  .save()"
    },
    {
      "cell_type": "code",
      "execution_count": 8,
      "metadata": {
        "autoscroll": "auto"
      },
      "outputs": [],
      "source": "%pyspark\ndf3 \u003d hc.table(\u0027review\u0027)\n\nselected_id \u003d z.textbox(\u0027Please insert your business id: \u0027)\nfiltered_df \u003d df3.filter(df3.rev_business_id \u003d\u003d selected_id)\n\nif filtered_df.count() \u003d\u003d 0:\n    print(\u0027Invalid business id\u0027)\nelse:\n    latest_rev \u003d filtered_df.select(\u0027rev_user_id\u0027, \u0027rev_stars\u0027, \u0027rev_date\u0027, \u0027rev_text\u0027, \u0027rev_useful\u0027, \u0027rev_funny\u0027, \u0027rev_cool\u0027) \\\n        .orderBy(col(\u0027rev_date\u0027).desc())\n\n    z.show(latest_rev)\n    \nlatest_rev.write.format(\"jdbc\").mode(\"overwrite\") \\\n  .option(\"url\", \"jdbc:mysql://node-master:3306/yelp\") \\\n  .option(\"dbtable\", \"latest_rev\") \\\n  .option(\"user\", \"root\") \\\n  .option(\"password\", \"admin\") \\\n  .save()"
    },
    {
      "cell_type": "code",
      "execution_count": 9,
      "metadata": {
        "autoscroll": "auto"
      },
      "outputs": [],
      "source": "%pyspark\n\nelite_count \u003d df1.filter(df1.user_elite !\u003d \"\").count()\nregular_count \u003d df1.filter(df1.user_elite \u003d\u003d \"\").count()\n\nEliteVsRegularCount_df \u003d spark.createDataFrame([\n    (\"Elite Users\", elite_count),\n    (\"Regular Users\", regular_count),\n], [\"User Type\", \"Count\"])\n\nz.show(EliteVsRegularCount_df)\n\nEliteVsRegularCount_df.write.format(\"jdbc\").mode(\"overwrite\") \\\n  .option(\"url\", \"jdbc:mysql://node-master:3306/yelp\") \\\n  .option(\"dbtable\", \"elite_regular\") \\\n  .option(\"user\", \"root\") \\\n  .option(\"password\", \"admin\") \\\n  .save()\n"
    },
    {
      "cell_type": "raw",
      "metadata": {
        "format": "text/plain"
      },
      "source": "%pyspark\n"
    }
  ]
}